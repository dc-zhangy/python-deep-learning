{
 "cells": [
  {
   "cell_type": "markdown",
   "metadata": {},
   "source": [
    "# 初始化参数"
   ]
  },
  {
   "cell_type": "code",
   "execution_count": 1,
   "metadata": {},
   "outputs": [
    {
     "name": "stderr",
     "output_type": "stream",
     "text": [
      "E:\\pythonfile\\coursera\\2.Improving Deep Neural Networks\\第一周 初始化、正则化\\reg_utils.py:61: SyntaxWarning: assertion is always true, perhaps remove parentheses?\n",
      "  assert(parameters['W' + str(l)].shape == layer_dims[l], layer_dims[l-1])\n",
      "E:\\pythonfile\\coursera\\2.Improving Deep Neural Networks\\第一周 初始化、正则化\\reg_utils.py:62: SyntaxWarning: assertion is always true, perhaps remove parentheses?\n",
      "  assert(parameters['W' + str(l)].shape == layer_dims[l], 1)\n"
     ]
    }
   ],
   "source": [
    "import numpy as np\n",
    "import matplotlib.pyplot as plt\n",
    "import sklearn\n",
    "import sklearn.datasets\n",
    "import init_utils   #第一部分，初始化\n",
    "import reg_utils    #第二部分，正则化\n",
    "import gc_utils     #第三部分，梯度校验\n",
    "#%matplotlib inline #如果你使用的是Jupyter Notebook，请取消注释。\n",
    "plt.rcParams['figure.figsize'] = (7.0, 4.0) # set default size of plots\n",
    "plt.rcParams['image.interpolation'] = 'nearest'\n",
    "plt.rcParams['image.cmap'] = 'gray'\n",
    "\n",
    "train_X, train_Y, test_X, test_Y = init_utils.load_dataset(is_plot=True)"
   ]
  },
  {
   "cell_type": "code",
   "execution_count": 2,
   "metadata": {},
   "outputs": [],
   "source": [
    "def model(X,Y,learning_rate=0.01,num_iterations=15000,print_cost=True,initialization=\"he\",is_polt=True):\n",
    "    \"\"\"\n",
    "    实现一个三层的神经网络：LINEAR ->RELU -> LINEAR -> RELU -> LINEAR -> SIGMOID\n",
    "\n",
    "    参数：\n",
    "        X - 输入的数据，维度为(2, 要训练/测试的数量)\n",
    "        Y - 标签，【0 | 1】，维度为(1，对应的是输入的数据的标签)\n",
    "        learning_rate - 学习速率\n",
    "        num_iterations - 迭代的次数\n",
    "        print_cost - 是否打印成本值，每迭代1000次打印一次\n",
    "        initialization - 字符串类型，初始化的类型【\"zeros\" | \"random\" | \"he\"】\n",
    "        is_polt - 是否绘制梯度下降的曲线图\n",
    "    返回\n",
    "        parameters - 学习后的参数\n",
    "    \"\"\"\n",
    "    grads = {}\n",
    "    costs = []\n",
    "    m = X.shape[1]\n",
    "    layers_dims = [X.shape[0],10,5,1]\n",
    "\n",
    "    #选择初始化参数的类型\n",
    "    if initialization == \"zeros\":\n",
    "        parameters = initialize_parameters_zeros(layers_dims)\n",
    "    elif initialization == \"random\":\n",
    "        parameters = initialize_parameters_random(layers_dims)\n",
    "    elif initialization == \"he\":\n",
    "        parameters = initialize_parameters_he(layers_dims)\n",
    "    else : \n",
    "        print(\"错误的初始化参数！程序退出\")\n",
    "        exit\n",
    "\n",
    "    #开始学习\n",
    "    for i in range(0,num_iterations):\n",
    "        #前向传播\n",
    "        a3 , cache = init_utils.forward_propagation(X,parameters)\n",
    "\n",
    "        #计算成本        \n",
    "        cost = init_utils.compute_loss(a3,Y)\n",
    "\n",
    "        #反向传播\n",
    "        grads = init_utils.backward_propagation(X,Y,cache)\n",
    "\n",
    "        #更新参数\n",
    "        parameters = init_utils.update_parameters(parameters,grads,learning_rate)\n",
    "\n",
    "        #记录成本\n",
    "        if i % 1000 == 0:\n",
    "            costs.append(cost)\n",
    "            #打印成本\n",
    "            if print_cost:\n",
    "                print(\"第\" + str(i) + \"次迭代，成本值为：\" + str(cost))\n",
    "\n",
    "\n",
    "    #学习完毕，绘制成本曲线\n",
    "    if is_polt:\n",
    "        plt.plot(costs)\n",
    "        plt.ylabel('cost')\n",
    "        plt.xlabel('iterations (per hundreds)')\n",
    "        plt.title(\"Learning rate =\" + str(learning_rate))\n",
    "        plt.show()\n",
    "\n",
    "    #返回学习完毕后的参数\n",
    "    return parameters"
   ]
  },
  {
   "cell_type": "markdown",
   "metadata": {},
   "source": [
    "## 初始化为0"
   ]
  },
  {
   "cell_type": "code",
   "execution_count": 3,
   "metadata": {},
   "outputs": [],
   "source": [
    "def initialize_parameters_zeros(layers_dims):\n",
    "    parameters = {}\n",
    "\n",
    "    L = len(layers_dims) #网络层数\n",
    "\n",
    "    for l in range(1,L):\n",
    "        parameters[\"W\" + str(l)] = np.zeros((layers_dims[l],layers_dims[l-1]))\n",
    "        parameters[\"b\" + str(l)] = np.zeros((layers_dims[l],1))\n",
    "\n",
    "        #使用断言确保我的数据格式是正确的\n",
    "        assert(parameters[\"W\" + str(l)].shape == (layers_dims[l],layers_dims[l-1]))\n",
    "        assert(parameters[\"b\" + str(l)].shape == (layers_dims[l],1))\n",
    "\n",
    "    return parameters"
   ]
  },
  {
   "cell_type": "code",
   "execution_count": 4,
   "metadata": {},
   "outputs": [
    {
     "name": "stdout",
     "output_type": "stream",
     "text": [
      "第0次迭代，成本值为：0.6931471805599453\n",
      "第1000次迭代，成本值为：0.6931471805599453\n",
      "第2000次迭代，成本值为：0.6931471805599453\n",
      "第3000次迭代，成本值为：0.6931471805599453\n",
      "第4000次迭代，成本值为：0.6931471805599453\n",
      "第5000次迭代，成本值为：0.6931471805599453\n",
      "第6000次迭代，成本值为：0.6931471805599453\n",
      "第7000次迭代，成本值为：0.6931471805599453\n",
      "第8000次迭代，成本值为：0.6931471805599453\n",
      "第9000次迭代，成本值为：0.6931471805599453\n",
      "第10000次迭代，成本值为：0.6931471805599455\n",
      "第11000次迭代，成本值为：0.6931471805599453\n",
      "第12000次迭代，成本值为：0.6931471805599453\n",
      "第13000次迭代，成本值为：0.6931471805599453\n",
      "第14000次迭代，成本值为：0.6931471805599453\n"
     ]
    },
    {
     "data": {
      "image/png": "[encoded data removed]",
      "text/plain": [
       "<Figure size 432x288 with 1 Axes>"
      ]
     },
     "metadata": {
      "needs_background": "light"
     },
     "output_type": "display_data"
    },
    {
     "name": "stdout",
     "output_type": "stream",
     "text": [
      "训练集:\n",
      "Accuracy: 0.5\n",
      "测试集:\n",
      "Accuracy: 0.5\n"
     ]
    }
   ],
   "source": [
    "parameters = model(train_X, train_Y, initialization = \"zeros\",is_polt=True)\n",
    "print (\"训练集:\")\n",
    "predictions_train = init_utils.predict(train_X, train_Y, parameters)\n",
    "print (\"测试集:\")\n",
    "predictions_test = init_utils.predict(test_X, test_Y, parameters)"
   ]
  },
  {
   "cell_type": "markdown",
   "metadata": {},
   "source": [
    "## 随机初始化"
   ]
  },
  {
   "cell_type": "code",
   "execution_count": 5,
   "metadata": {},
   "outputs": [],
   "source": [
    "def initialize_parameters_random(layers_dims):\n",
    "    np.random.seed(3)               # 指定随机种子\n",
    "    parameters = {}\n",
    "    L = len(layers_dims)            # 层数\n",
    "\n",
    "    for l in range(1, L):\n",
    "        parameters['W' + str(l)] = np.random.randn(layers_dims[l], layers_dims[l - 1]) \n",
    "        parameters['b' + str(l)] = np.zeros((layers_dims[l], 1))\n",
    "\n",
    "        #使用断言确保我的数据格式是正确的\n",
    "        assert(parameters[\"W\" + str(l)].shape == (layers_dims[l],layers_dims[l-1]))\n",
    "        assert(parameters[\"b\" + str(l)].shape == (layers_dims[l],1))\n",
    "\n",
    "    return parameters"
   ]
  },
  {
   "cell_type": "code",
   "execution_count": 6,
   "metadata": {},
   "outputs": [
    {
     "name": "stdout",
     "output_type": "stream",
     "text": [
      "第0次迭代，成本值为：1.9698193182646353\n",
      "第1000次迭代，成本值为：0.6894749458317238\n",
      "第2000次迭代，成本值为：0.675058063210226\n",
      "第3000次迭代，成本值为：0.6469210868251527\n",
      "第4000次迭代，成本值为：0.5398790761260324\n",
      "第5000次迭代，成本值为：0.40626422697648484\n",
      "第6000次迭代，成本值为：0.29844708868759445\n",
      "第7000次迭代，成本值为：0.2218373466209485\n",
      "第8000次迭代，成本值为：0.16926424179038072\n",
      "第9000次迭代，成本值为：0.13413308969827087\n",
      "第10000次迭代，成本值为：0.10873865543082417\n",
      "第11000次迭代，成本值为：0.09169443068126971\n",
      "第12000次迭代，成本值为：0.07991173603998081\n",
      "第13000次迭代，成本值为：0.07083949901112584\n",
      "第14000次迭代，成本值为：0.06370209022580517\n"
     ]
    },
    {
     "data": {
      "image/png": "[encoded data removed]",
      "text/plain": [
       "<Figure size 432x288 with 1 Axes>"
      ]
     },
     "metadata": {
      "needs_background": "light"
     },
     "output_type": "display_data"
    },
    {
     "name": "stdout",
     "output_type": "stream",
     "text": [
      "训练集:\n",
      "Accuracy: 0.9966666666666667\n",
      "测试集:\n",
      "Accuracy: 0.96\n"
     ]
    }
   ],
   "source": [
    "parameters = model(train_X, train_Y, initialization = \"random\",is_polt=True)\n",
    "print (\"训练集:\")\n",
    "predictions_train = init_utils.predict(train_X, train_Y, parameters)\n",
    "print (\"测试集:\")\n",
    "predictions_test = init_utils.predict(test_X, test_Y, parameters)"
   ]
  },
  {
   "cell_type": "markdown",
   "metadata": {},
   "source": [
    "## 抑梯度异常初始化\n",
    "我们会使用到$\\sqrt{\\frac{2}{\\text{dimension of the previous layer}}}$这个公式来初始化参数"
   ]
  },
  {
   "cell_type": "code",
   "execution_count": 7,
   "metadata": {},
   "outputs": [],
   "source": [
    "def initialize_parameters_he(layers_dims):\n",
    "    np.random.seed(3)               # 指定随机种子\n",
    "    parameters = {}\n",
    "    L = len(layers_dims)            # 层数\n",
    "\n",
    "    for l in range(1, L):\n",
    "        parameters['W' + str(l)] = np.random.randn(layers_dims[l], layers_dims[l - 1]) * np.sqrt(2 / layers_dims[l - 1])\n",
    "        parameters['b' + str(l)] = np.zeros((layers_dims[l], 1))\n",
    "\n",
    "        #使用断言确保我的数据格式是正确的\n",
    "        assert(parameters[\"W\" + str(l)].shape == (layers_dims[l],layers_dims[l-1]))\n",
    "        assert(parameters[\"b\" + str(l)].shape == (layers_dims[l],1))\n",
    "\n",
    "    return parameters"
   ]
  },
  {
   "cell_type": "code",
   "execution_count": 8,
   "metadata": {},
   "outputs": [
    {
     "name": "stdout",
     "output_type": "stream",
     "text": [
      "第0次迭代，成本值为：0.8830537463419761\n",
      "第1000次迭代，成本值为：0.6879825919728063\n",
      "第2000次迭代，成本值为：0.6751286264523371\n",
      "第3000次迭代，成本值为：0.6526117768893807\n",
      "第4000次迭代，成本值为：0.6082958970572938\n",
      "第5000次迭代，成本值为：0.5304944491717495\n",
      "第6000次迭代，成本值为：0.41386458170717944\n",
      "第7000次迭代，成本值为：0.31178034648444414\n",
      "第8000次迭代，成本值为：0.23696215330322556\n",
      "第9000次迭代，成本值为：0.18597287209206828\n",
      "第10000次迭代，成本值为：0.15015556280371808\n",
      "第11000次迭代，成本值为：0.12325079292273544\n",
      "第12000次迭代，成本值为：0.09917746546525927\n",
      "第13000次迭代，成本值为：0.08457055954024272\n",
      "第14000次迭代，成本值为：0.07357895962677359\n"
     ]
    },
    {
     "data": {
      "image/png": "[encoded data removed]",
      "text/plain": [
       "<Figure size 432x288 with 1 Axes>"
      ]
     },
     "metadata": {
      "needs_background": "light"
     },
     "output_type": "display_data"
    },
    {
     "name": "stdout",
     "output_type": "stream",
     "text": [
      "训练集:\n",
      "Accuracy: 0.9933333333333333\n",
      "测试集:\n",
      "Accuracy: 0.96\n"
     ]
    }
   ],
   "source": [
    "parameters = model(train_X, train_Y, initialization = \"he\",is_polt=True)\n",
    "print(\"训练集:\")\n",
    "predictions_train = init_utils.predict(train_X, train_Y, parameters)\n",
    "print(\"测试集:\")\n",
    "init_utils.predictions_test = init_utils.predict(test_X, test_Y, parameters)"
   ]
  },
  {
   "cell_type": "markdown",
   "metadata": {},
   "source": [
    "# 正则化\n",
    "为了避免过拟合的问题"
   ]
  },
  {
   "cell_type": "code",
   "execution_count": 9,
   "metadata": {},
   "outputs": [],
   "source": [
    "train_X, train_Y, test_X, test_Y = reg_utils.load_2D_dataset(is_plot=False)"
   ]
  },
  {
   "cell_type": "code",
   "execution_count": 10,
   "metadata": {},
   "outputs": [],
   "source": [
    "def model(X,Y,learning_rate=0.3,num_iterations=30000,print_cost=True,is_plot=True,lambd=0,keep_prob=1):\n",
    "    \"\"\"\n",
    "    实现一个三层的神经网络：LINEAR ->RELU -> LINEAR -> RELU -> LINEAR -> SIGMOID\n",
    "\n",
    "    参数：\n",
    "        X - 输入的数据，维度为(2, 要训练/测试的数量)\n",
    "        Y - 标签，【0(蓝色) | 1(红色)】，维度为(1，对应的是输入的数据的标签)\n",
    "        learning_rate - 学习速率\n",
    "        num_iterations - 迭代的次数\n",
    "        print_cost - 是否打印成本值，每迭代10000次打印一次，但是每1000次记录一个成本值\n",
    "        is_polt - 是否绘制梯度下降的曲线图\n",
    "        lambd - 正则化的超参数，实数\n",
    "        keep_prob - 随机删除节点的概率\n",
    "    返回\n",
    "        parameters - 学习后的参数\n",
    "    \"\"\"\n",
    "    grads = {}\n",
    "    costs = []\n",
    "    m = X.shape[1]\n",
    "    layers_dims = [X.shape[0],20,3,1]\n",
    "\n",
    "    #初始化参数\n",
    "    parameters = reg_utils.initialize_parameters(layers_dims)\n",
    "\n",
    "    #开始学习\n",
    "    for i in range(0,num_iterations):\n",
    "        #前向传播\n",
    "        ##是否随机删除节点\n",
    "        if keep_prob == 1:\n",
    "            ###不随机删除节点\n",
    "            a3 , cache = reg_utils.forward_propagation(X,parameters)\n",
    "        elif keep_prob < 1:\n",
    "            ###随机删除节点\n",
    "            a3 , cache = forward_propagation_with_dropout(X,parameters,keep_prob)\n",
    "        else:\n",
    "            print(\"keep_prob参数错误！程序退出。\")\n",
    "            exit\n",
    "\n",
    "        #计算成本\n",
    "        ## 是否使用二范数\n",
    "        if lambd == 0:\n",
    "            ###不使用L2正则化\n",
    "            cost = reg_utils.compute_cost(a3,Y)\n",
    "        else:\n",
    "            ###使用L2正则化\n",
    "            cost = compute_cost_with_regularization(a3,Y,parameters,lambd)\n",
    "\n",
    "        #反向传播\n",
    "        ##可以同时使用L2正则化和随机删除节点，但是本次实验不同时使用。\n",
    "        assert(lambd == 0  or keep_prob ==1)\n",
    "\n",
    "        ##两个参数的使用情况\n",
    "        if (lambd == 0 and keep_prob == 1):\n",
    "            ### 不使用L2正则化和不使用随机删除节点\n",
    "            grads = reg_utils.backward_propagation(X,Y,cache)\n",
    "        elif lambd != 0:\n",
    "            ### 使用L2正则化，不使用随机删除节点\n",
    "            grads = backward_propagation_with_regularization(X, Y, cache, lambd)\n",
    "        elif keep_prob < 1:\n",
    "            ### 使用随机删除节点，不使用L2正则化\n",
    "            grads = backward_propagation_with_dropout(X, Y, cache, keep_prob)\n",
    "\n",
    "        #更新参数\n",
    "        parameters = reg_utils.update_parameters(parameters, grads, learning_rate)\n",
    "\n",
    "        #记录并打印成本\n",
    "        if i % 1000 == 0:\n",
    "            ## 记录成本\n",
    "            costs.append(cost)\n",
    "            if (print_cost and i % 10000 == 0):\n",
    "                #打印成本\n",
    "                print(\"第\" + str(i) + \"次迭代，成本值为：\" + str(cost))\n",
    "\n",
    "    #是否绘制成本曲线图\n",
    "    if is_plot:\n",
    "        plt.plot(costs)\n",
    "        plt.ylabel('cost')\n",
    "        plt.xlabel('iterations (x1,000)')\n",
    "        plt.title(\"Learning rate =\" + str(learning_rate))\n",
    "        plt.show()\n",
    "\n",
    "    #返回学习后的参数\n",
    "    return parameters"
   ]
  },
  {
   "cell_type": "markdown",
   "metadata": {},
   "source": [
    "## 不使用正则化"
   ]
  },
  {
   "cell_type": "code",
   "execution_count": 11,
   "metadata": {},
   "outputs": [
    {
     "name": "stdout",
     "output_type": "stream",
     "text": [
      "第0次迭代，成本值为：0.6557412523481002\n",
      "第10000次迭代，成本值为：0.1632998752572419\n",
      "第20000次迭代，成本值为：0.13851642423259686\n"
     ]
    },
    {
     "data": {
      "image/png": "[encoded data removed]",
      "text/plain": [
       "<Figure size 432x288 with 1 Axes>"
      ]
     },
     "metadata": {
      "needs_background": "light"
     },
     "output_type": "display_data"
    },
    {
     "name": "stdout",
     "output_type": "stream",
     "text": [
      "训练集:\n",
      "Accuracy: 0.9478672985781991\n",
      "测试集:\n",
      "Accuracy: 0.915\n"
     ]
    }
   ],
   "source": [
    "parameters = model(train_X, train_Y,is_plot=True)\n",
    "print(\"训练集:\")\n",
    "predictions_train = reg_utils.predict(train_X, train_Y, parameters)\n",
    "print(\"测试集:\")\n",
    "predictions_test = reg_utils.predict(test_X, test_Y, parameters)"
   ]
  },
  {
   "cell_type": "markdown",
   "metadata": {},
   "source": [
    "## L2正则化\n",
    "\n",
    "避免过度拟合的标准方法称为L2正则化，它包括适当修改你的成本函数，从:\n",
    "$$J = -\\frac{1}{m} \\sum\\limits_{i = 1}^{m} \\large{(}\\small  y^{(i)}\\log\\left(a^{[L](i)}\\right) + (1-y^{(i)})\\log\\left(1- a^{[L](i)}\\right) \\large{)} \\tag{1}$$\n",
    "到:\n",
    "$$J_{regularized} = \\small \\underbrace{-\\frac{1}{m} \\sum\\limits_{i = 1}^{m} \\large{(}\\small y^{(i)}\\log\\left(a^{[L](i)}\\right) + (1-y^{(i)})\\log\\left(1- a^{[L](i)}\\right) \\large{)} }_\\text{cross-entropy cost} + \\underbrace{\\frac{1}{m} \\frac{\\lambda}{2} \\sum\\limits_l\\sum\\limits_k\\sum\\limits_j W_{k,j}^{[l]2} }_\\text{L2 regularization cost} \\tag{2}$$\n"
   ]
  },
  {
   "cell_type": "code",
   "execution_count": 12,
   "metadata": {},
   "outputs": [],
   "source": [
    "def compute_cost_with_regularization(A3,Y,parameters,lambd):\n",
    "    \"\"\"\n",
    "    实现公式2的L2正则化计算成本\n",
    "\n",
    "    参数：\n",
    "        A3 - 正向传播的输出结果，维度为（输出节点数量，训练/测试的数量）\n",
    "        Y - 标签向量，与数据一一对应，维度为(输出节点数量，训练/测试的数量)\n",
    "        parameters - 包含模型学习后的参数的字典\n",
    "    返回：\n",
    "        cost - 使用公式2计算出来的正则化损失的值\n",
    "\n",
    "    \"\"\"\n",
    "    m = Y.shape[1]\n",
    "    W1 = parameters[\"W1\"]\n",
    "    W2 = parameters[\"W2\"]\n",
    "    W3 = parameters[\"W3\"]\n",
    "\n",
    "    cross_entropy_cost = reg_utils.compute_cost(A3,Y)\n",
    "\n",
    "    L2_regularization_cost = lambd * (np.sum(np.square(W1)) + np.sum(np.square(W2))  + np.sum(np.square(W3))) / (2 * m)\n",
    "\n",
    "    cost = cross_entropy_cost + L2_regularization_cost\n",
    "\n",
    "    return cost\n",
    "\n",
    "#当然，因为改变了成本函数，我们也必须改变向后传播的函数， 所有的梯度都必须根据这个新的成本值来计算。\n",
    "\n",
    "def backward_propagation_with_regularization(X, Y, cache, lambd):\n",
    "    \"\"\"\n",
    "    实现我们添加了L2正则化的模型的后向传播。\n",
    "\n",
    "    参数：\n",
    "        X - 输入数据集，维度为（输入节点数量，数据集里面的数量）\n",
    "        Y - 标签，维度为（输出节点数量，数据集里面的数量）\n",
    "        cache - 来自forward_propagation（）的cache输出\n",
    "        lambda - regularization超参数，实数\n",
    "\n",
    "    返回：\n",
    "        gradients - 一个包含了每个参数、激活值和预激活值变量的梯度的字典\n",
    "    \"\"\"\n",
    "\n",
    "    m = X.shape[1]\n",
    "\n",
    "    (Z1, A1, W1, b1, Z2, A2, W2, b2, Z3, A3, W3, b3) = cache\n",
    "\n",
    "    dZ3 = A3 - Y\n",
    "\n",
    "    dW3 = (1 / m) * np.dot(dZ3,A2.T) + ((lambd * W3) / m )\n",
    "    db3 = (1 / m) * np.sum(dZ3,axis=1,keepdims=True)\n",
    "\n",
    "    dA2 = np.dot(W3.T,dZ3)\n",
    "    dZ2 = np.multiply(dA2,np.int64(A2 > 0))\n",
    "    dW2 = (1 / m) * np.dot(dZ2,A1.T) + ((lambd * W2) / m)\n",
    "    db2 = (1 / m) * np.sum(dZ2,axis=1,keepdims=True)\n",
    "\n",
    "    dA1 = np.dot(W2.T,dZ2)\n",
    "    dZ1 = np.multiply(dA1,np.int64(A1 > 0))\n",
    "    dW1 = (1 / m) * np.dot(dZ1,X.T) + ((lambd * W1) / m)\n",
    "    db1 = (1 / m) * np.sum(dZ1,axis=1,keepdims=True)\n",
    "\n",
    "    gradients = {\"dZ3\": dZ3, \"dW3\": dW3, \"db3\": db3, \"dA2\": dA2,\n",
    "                 \"dZ2\": dZ2, \"dW2\": dW2, \"db2\": db2, \"dA1\": dA1, \n",
    "                 \"dZ1\": dZ1, \"dW1\": dW1, \"db1\": db1}\n",
    "\n",
    "    return gradients"
   ]
  },
  {
   "cell_type": "code",
   "execution_count": 13,
   "metadata": {},
   "outputs": [
    {
     "name": "stdout",
     "output_type": "stream",
     "text": [
      "第0次迭代，成本值为：0.6974484493131264\n",
      "第10000次迭代，成本值为：0.2684918873282239\n",
      "第20000次迭代，成本值为：0.26809163371273004\n"
     ]
    },
    {
     "data": {
      "image/png": "[encoded data removed]",
      "text/plain": [
       "<Figure size 432x288 with 1 Axes>"
      ]
     },
     "metadata": {
      "needs_background": "light"
     },
     "output_type": "display_data"
    },
    {
     "name": "stdout",
     "output_type": "stream",
     "text": [
      "使用正则化，训练集:\n",
      "Accuracy: 0.9383886255924171\n",
      "使用正则化，测试集:\n",
      "Accuracy: 0.93\n"
     ]
    }
   ],
   "source": [
    "parameters = model(train_X, train_Y, lambd=0.7,is_plot=True)\n",
    "print(\"使用正则化，训练集:\")\n",
    "predictions_train = reg_utils.predict(train_X, train_Y, parameters)\n",
    "print(\"使用正则化，测试集:\")\n",
    "predictions_test = reg_utils.predict(test_X, test_Y, parameters)"
   ]
  }
 ],
 "metadata": {
  "kernelspec": {
   "display_name": "Python 3",
   "language": "python",
   "name": "python3"
  },
  "language_info": {
   "codemirror_mode": {
    "name": "ipython",
    "version": 3
   },
   "file_extension": ".py",
   "mimetype": "text/x-python",
   "name": "python",
   "nbconvert_exporter": "python",
   "pygments_lexer": "ipython3",
   "version": "3.7.4"
  },
  "toc": {
   "base_numbering": 1,
   "nav_menu": {},
   "number_sections": true,
   "sideBar": true,
   "skip_h1_title": false,
   "title_cell": "Table of Contents",
   "title_sidebar": "Contents",
   "toc_cell": false,
   "toc_position": {},
   "toc_section_display": true,
   "toc_window_display": true
  },
  "varInspector": {
   "cols": {
    "lenName": 16,
    "lenType": 16,
    "lenVar": 40
   },
   "kernels_config": {
    "python": {
     "delete_cmd_postfix": "",
     "delete_cmd_prefix": "del ",
     "library": "var_list.py",
     "varRefreshCmd": "print(var_dic_list())"
    },
    "r": {
     "delete_cmd_postfix": ") ",
     "delete_cmd_prefix": "rm(",
     "library": "var_list.r",
     "varRefreshCmd": "cat(var_dic_list()) "
    }
   },
   "types_to_exclude": [
    "module",
    "function",
    "builtin_function_or_method",
    "instance",
    "_Feature"
   ],
   "window_display": false
  }
 },
 "nbformat": 4,
 "nbformat_minor": 2
}
