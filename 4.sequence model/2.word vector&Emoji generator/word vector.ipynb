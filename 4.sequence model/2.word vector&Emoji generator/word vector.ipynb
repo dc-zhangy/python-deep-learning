{
 "cells": [
  {
   "cell_type": "markdown",
   "metadata": {},
   "source": [
    "# 加载训练好的词嵌入数据\n",
    "因为词嵌入的训练是非常耗资源的，所以大部分人都是选择加载训练好的词嵌入数据。在本博客中，我们将学习到：\n",
    "\n",
    "- 如何加载训练好了的词向量\n",
    "- 使用余弦相似性计算相似度\n",
    "- 使用词嵌入来解决“男人与女人相比就像国王与____ 相比”之类的词语类比问题\n",
    "- 修改词嵌入以减少性别偏见等\n",
    "我们先来加载所需要的包："
   ]
  },
  {
   "cell_type": "code",
   "execution_count": 1,
   "metadata": {},
   "outputs": [
    {
     "name": "stderr",
     "output_type": "stream",
     "text": [
      "Using TensorFlow backend.\n"
     ]
    }
   ],
   "source": [
    "import numpy as np\n",
    "import w2v_utils"
   ]
  },
  {
   "cell_type": "markdown",
   "metadata": {},
   "source": [
    "接下来就是加载词向量了，这里我们使用50维的向量来表示单词："
   ]
  },
  {
   "cell_type": "code",
   "execution_count": 2,
   "metadata": {},
   "outputs": [],
   "source": [
    "words, word_to_vec_map = w2v_utils.read_glove_vecs('data/glove.6B.50d.txt')"
   ]
  },
  {
   "cell_type": "markdown",
   "metadata": {},
   "source": [
    "我们加载了以下数据：\n",
    "\n",
    "- words：单词的集合\n",
    "- word_to_vec_map ： 字典类型，单词到GloVe向量的映射\n",
    "\n",
    "你可以使用下面的语句来看看到底保存了些什么："
   ]
  },
  {
   "cell_type": "markdown",
   "metadata": {},
   "source": [
    "因为独热向量不能很好地表示词语词之间的相似性，所以使用了GloVe向量，它保存了每个单词更多、更有用的信息，我们现在可以看看如何比较两个词的相似性。"
   ]
  },
  {
   "cell_type": "markdown",
   "metadata": {},
   "source": [
    "# 余弦相似度\n",
    "  为了衡量两个词的相似程度，我们需要一种方法来衡量两个词的词嵌入向量之间的相似程度，给定两个向量$u$和$v$，余弦相似度定义如下:\n",
    "  $$\\text{CosineSimilarity(u, v)} = \\frac {u . v} {||u||_2 ||v||_2} = cos(\\theta) \\tag{1}$$\n",
    "  $u$与$v$之间的相似度是基于他们之间的角度计算的，它们越相似，那么$cos(\\theta)$的值就越接近于1；如果它们很不相似，那么他们的夹角就越大，$cos(\\theta)$的值就越接近于-1。\n",
    "\n"
   ]
  },
  {
   "cell_type": "code",
   "execution_count": 5,
   "metadata": {},
   "outputs": [],
   "source": [
    "def cosine_similarity(u, v):\n",
    "    \"\"\"\n",
    "    u与v的余弦相似度反映了u与v的相似程度\n",
    "    \n",
    "    参数：\n",
    "        u -- 维度为(n,)的词向量\n",
    "        v -- 维度为(n,)的词向量\n",
    "        \n",
    "    返回：\n",
    "        cosine_similarity -- 由上面公式定义的u和v之间的余弦相似度。\n",
    "    \"\"\"\n",
    "    distance = 0\n",
    "    \n",
    "    # 计算u与v的内积\n",
    "    dot = np.dot(u, v)\n",
    "    \n",
    "    #计算u的L2范数\n",
    "    norm_u = np.sqrt(np.sum(np.power(u, 2)))\n",
    "    \n",
    "    #计算v的L2范数\n",
    "    norm_v = np.sqrt(np.sum(np.power(v, 2)))\n",
    "    \n",
    "    # 根据公式1计算余弦相似度\n",
    "    cosine_similarity = np.divide(dot, norm_u * norm_v)\n",
    "    \n",
    "    return cosine_similarity"
   ]
  },
  {
   "cell_type": "code",
   "execution_count": 6,
   "metadata": {},
   "outputs": [
    {
     "name": "stdout",
     "output_type": "stream",
     "text": [
      "cosine_similarity(father, mother) =  0.8909038442893615\n",
      "cosine_similarity(ball, crocodile) =  0.27439246261379424\n",
      "cosine_similarity(france - paris, rome - italy) =  -0.6751479308174202\n"
     ]
    }
   ],
   "source": [
    "father = word_to_vec_map[\"father\"]\n",
    "mother = word_to_vec_map[\"mother\"]\n",
    "ball = word_to_vec_map[\"ball\"]\n",
    "crocodile = word_to_vec_map[\"crocodile\"]\n",
    "france = word_to_vec_map[\"france\"]\n",
    "italy = word_to_vec_map[\"italy\"]\n",
    "paris = word_to_vec_map[\"paris\"]\n",
    "rome = word_to_vec_map[\"rome\"]\n",
    "\n",
    "print(\"cosine_similarity(father, mother) = \", cosine_similarity(father, mother))\n",
    "print(\"cosine_similarity(ball, crocodile) = \",cosine_similarity(ball, crocodile))\n",
    "print(\"cosine_similarity(france - paris, rome - italy) = \",cosine_similarity(france - paris, rome - italy))"
   ]
  },
  {
   "cell_type": "markdown",
   "metadata": {},
   "source": [
    "# 词类类比\n",
    "在这里，我们将学习解决“A与B相比就类似于C与____相比一样”之类的问题，打个比方，“男人与女人相比就像国王与 女皇 相比”"
   ]
  },
  {
   "cell_type": "code",
   "execution_count": null,
   "metadata": {},
   "outputs": [],
   "source": [
    "def complete_analogy(word_a, word_b, word_c, word_to_vec_map):\n",
    "    \"\"\"\n",
    "    解决“A与B相比就类似于C与____相比一样”之类的问题\n",
    "    \n",
    "    参数：\n",
    "        word_a -- 一个字符串类型的词\n",
    "        word_b -- 一个字符串类型的词\n",
    "        word_c -- 一个字符串类型的词\n",
    "        word_to_vec_map -- 字典类型，单词到GloVe向量的映射\n",
    "        \n",
    "    返回：\n",
    "        best_word -- 满足(v_b - v_a) 最接近 (v_best_word - v_c) 的词\n",
    "    \"\"\"\n",
    "    \n",
    "    # 把单词转换为小写\n",
    "    word_a, word_b, word_c = word_a.lower(), word_b.lower(), word_c.lower()\n",
    "    \n",
    "    # 获取对应单词的词向量\n",
    "    e_a, e_b, e_c = word_to_vec_map[word_a], word_to_vec_map[word_b], word_to_vec_map[word_c]\n",
    "    \n",
    "    # 获取全部的单词\n",
    "    words = word_to_vec_map.keys()\n",
    "    \n",
    "    # 将max_cosine_sim初始化为一个比较大的负数\n",
    "    max_cosine_sim = -100\n",
    "    best_word = None\n",
    "    \n",
    "    # 遍历整个数据集\n",
    "    for word in words:\n",
    "        # 要避免匹配到输入的数据\n",
    "        if word in [word_a, word_b, word_c]:\n",
    "            continue\n",
    "        # 计算余弦相似度\n",
    "        cosine_sim = cosine_similarity((e_b - e_a), (word_to_vec_map[word] - e_c))\n",
    "        \n",
    "        if cosine_sim > max_cosine_sim:\n",
    "            max_cosine_sim = cosine_sim\n",
    "            best_word = word\n",
    "            \n",
    "    return best_word"
   ]
  },
  {
   "cell_type": "code",
   "execution_count": null,
   "metadata": {},
   "outputs": [],
   "source": []
  }
 ],
 "metadata": {
  "kernelspec": {
   "display_name": "Python 3",
   "language": "python",
   "name": "python3"
  },
  "language_info": {
   "codemirror_mode": {
    "name": "ipython",
    "version": 3
   },
   "file_extension": ".py",
   "mimetype": "text/x-python",
   "name": "python",
   "nbconvert_exporter": "python",
   "pygments_lexer": "ipython3",
   "version": "3.7.4"
  },
  "toc": {
   "base_numbering": 1,
   "nav_menu": {},
   "number_sections": true,
   "sideBar": true,
   "skip_h1_title": false,
   "title_cell": "Table of Contents",
   "title_sidebar": "Contents",
   "toc_cell": false,
   "toc_position": {},
   "toc_section_display": true,
   "toc_window_display": true
  },
  "varInspector": {
   "cols": {
    "lenName": 16,
    "lenType": 16,
    "lenVar": 40
   },
   "kernels_config": {
    "python": {
     "delete_cmd_postfix": "",
     "delete_cmd_prefix": "del ",
     "library": "var_list.py",
     "varRefreshCmd": "print(var_dic_list())"
    },
    "r": {
     "delete_cmd_postfix": ") ",
     "delete_cmd_prefix": "rm(",
     "library": "var_list.r",
     "varRefreshCmd": "cat(var_dic_list()) "
    }
   },
   "types_to_exclude": [
    "module",
    "function",
    "builtin_function_or_method",
    "instance",
    "_Feature"
   ],
   "window_display": false
  }
 },
 "nbformat": 4,
 "nbformat_minor": 2
}
